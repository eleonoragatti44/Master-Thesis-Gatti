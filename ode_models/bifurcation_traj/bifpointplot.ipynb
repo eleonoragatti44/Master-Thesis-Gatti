{
 "cells": [
  {
   "cell_type": "code",
   "execution_count": 1,
   "metadata": {},
   "outputs": [],
   "source": [
    "import numpy as np\n",
    "import pandas as pd\n",
    "import pickle\n",
    "from scipy import integrate, signal\n",
    "from scipy.interpolate import interp1d\n",
    "from scipy.optimize import fsolve\n",
    "from scipy.integrate import odeint\n",
    "import matplotlib.pyplot as plt\n",
    "import matplotlib.patches as mpatches\n",
    "from toy_models import *\n",
    "%matplotlib widget"
   ]
  },
  {
   "cell_type": "markdown",
   "metadata": {},
   "source": [
    "# Quantify bif point"
   ]
  },
  {
   "cell_type": "code",
   "execution_count": 35,
   "metadata": {},
   "outputs": [
    {
     "name": "stderr",
     "output_type": "stream",
     "text": [
      "/Users/eleonoragatti/opt/anaconda3/lib/python3.7/site-packages/numpy/core/_methods.py:163: VisibleDeprecationWarning: Creating an ndarray from ragged nested sequences (which is a list-or-tuple of lists-or-tuples-or ndarrays with different lengths or shapes) is deprecated. If you meant to do this, you must specify 'dtype=object' when creating the ndarray.\n",
      "  arr = asanyarray(a)\n"
     ]
    },
    {
     "ename": "ValueError",
     "evalue": "operands could not be broadcast together with shapes (799,) (798,) ",
     "output_type": "error",
     "traceback": [
      "\u001b[0;31m---------------------------------------------------------------------------\u001b[0m",
      "\u001b[0;31mValueError\u001b[0m                                Traceback (most recent call last)",
      "\u001b[0;32m/var/folders/40/7v1h97_n38n20wt3hs2pm_k40000gn/T/ipykernel_47429/283080191.py\u001b[0m in \u001b[0;36m<module>\u001b[0;34m\u001b[0m\n\u001b[1;32m     34\u001b[0m \u001b[0;34m\u001b[0m\u001b[0m\n\u001b[1;32m     35\u001b[0m     \u001b[0;31m# Calculate average y values for the upper group\u001b[0m\u001b[0;34m\u001b[0m\u001b[0;34m\u001b[0m\u001b[0;34m\u001b[0m\u001b[0m\n\u001b[0;32m---> 36\u001b[0;31m     \u001b[0mavg_y_upper\u001b[0m \u001b[0;34m=\u001b[0m \u001b[0mnp\u001b[0m\u001b[0;34m.\u001b[0m\u001b[0mmean\u001b[0m\u001b[0;34m(\u001b[0m\u001b[0my_values_upper\u001b[0m\u001b[0;34m,\u001b[0m \u001b[0maxis\u001b[0m\u001b[0;34m=\u001b[0m\u001b[0;36m0\u001b[0m\u001b[0;34m)\u001b[0m\u001b[0;34m\u001b[0m\u001b[0;34m\u001b[0m\u001b[0m\n\u001b[0m\u001b[1;32m     37\u001b[0m \u001b[0;34m\u001b[0m\u001b[0m\n\u001b[1;32m     38\u001b[0m     \u001b[0;31m# Collect y values for the lower group\u001b[0m\u001b[0;34m\u001b[0m\u001b[0;34m\u001b[0m\u001b[0;34m\u001b[0m\u001b[0m\n",
      "\u001b[0;32m<__array_function__ internals>\u001b[0m in \u001b[0;36mmean\u001b[0;34m(*args, **kwargs)\u001b[0m\n",
      "\u001b[0;32m~/opt/anaconda3/lib/python3.7/site-packages/numpy/core/fromnumeric.py\u001b[0m in \u001b[0;36mmean\u001b[0;34m(a, axis, dtype, out, keepdims, where)\u001b[0m\n\u001b[1;32m   3439\u001b[0m \u001b[0;34m\u001b[0m\u001b[0m\n\u001b[1;32m   3440\u001b[0m     return _methods._mean(a, axis=axis, dtype=dtype,\n\u001b[0;32m-> 3441\u001b[0;31m                           out=out, **kwargs)\n\u001b[0m\u001b[1;32m   3442\u001b[0m \u001b[0;34m\u001b[0m\u001b[0m\n\u001b[1;32m   3443\u001b[0m \u001b[0;34m\u001b[0m\u001b[0m\n",
      "\u001b[0;32m~/opt/anaconda3/lib/python3.7/site-packages/numpy/core/_methods.py\u001b[0m in \u001b[0;36m_mean\u001b[0;34m(a, axis, dtype, out, keepdims, where)\u001b[0m\n\u001b[1;32m    177\u001b[0m             \u001b[0mis_float16_result\u001b[0m \u001b[0;34m=\u001b[0m \u001b[0;32mTrue\u001b[0m\u001b[0;34m\u001b[0m\u001b[0;34m\u001b[0m\u001b[0m\n\u001b[1;32m    178\u001b[0m \u001b[0;34m\u001b[0m\u001b[0m\n\u001b[0;32m--> 179\u001b[0;31m     \u001b[0mret\u001b[0m \u001b[0;34m=\u001b[0m \u001b[0mumr_sum\u001b[0m\u001b[0;34m(\u001b[0m\u001b[0marr\u001b[0m\u001b[0;34m,\u001b[0m \u001b[0maxis\u001b[0m\u001b[0;34m,\u001b[0m \u001b[0mdtype\u001b[0m\u001b[0;34m,\u001b[0m \u001b[0mout\u001b[0m\u001b[0;34m,\u001b[0m \u001b[0mkeepdims\u001b[0m\u001b[0;34m,\u001b[0m \u001b[0mwhere\u001b[0m\u001b[0;34m=\u001b[0m\u001b[0mwhere\u001b[0m\u001b[0;34m)\u001b[0m\u001b[0;34m\u001b[0m\u001b[0;34m\u001b[0m\u001b[0m\n\u001b[0m\u001b[1;32m    180\u001b[0m     \u001b[0;32mif\u001b[0m \u001b[0misinstance\u001b[0m\u001b[0;34m(\u001b[0m\u001b[0mret\u001b[0m\u001b[0;34m,\u001b[0m \u001b[0mmu\u001b[0m\u001b[0;34m.\u001b[0m\u001b[0mndarray\u001b[0m\u001b[0;34m)\u001b[0m\u001b[0;34m:\u001b[0m\u001b[0;34m\u001b[0m\u001b[0;34m\u001b[0m\u001b[0m\n\u001b[1;32m    181\u001b[0m         ret = um.true_divide(\n",
      "\u001b[0;31mValueError\u001b[0m: operands could not be broadcast together with shapes (799,) (798,) "
     ]
    }
   ],
   "source": [
    "bifurcation = []\n",
    "\n",
    "for i in range(15,50,5):\n",
    "    with open(f'k50.0_t{i}_simpl.pkl', 'rb') as f:\n",
    "        params_ksmall, res_ksmall = pickle.load(f)\n",
    "        \n",
    "    x_limit = i # check if reasonable\n",
    "    y_threshold_initial = 1.0\n",
    "    y_threshold = 10.0\n",
    "\n",
    "    upper_target_trajectories = []\n",
    "    lower_target_trajectories = []\n",
    "\n",
    "    for r in res_ksmall:\n",
    "        # Check if the trajectory goes straight at the beginning\n",
    "        if np.all(np.abs(r.y[1][r.y[0] < x_limit]) < y_threshold_initial):\n",
    "            # If it does, check if the trajectory reaches the upper target\n",
    "            if r.y[1][-1] > y_threshold:\n",
    "                upper_target_trajectories.append(r)\n",
    "            # Check if the trajectory reaches the lower target\n",
    "            elif r.y[1][-1] < -y_threshold:\n",
    "                lower_target_trajectories.append(r)\n",
    "\n",
    "    # print(f'Number of upper target trajectories: {len(upper_target_trajectories)}')\n",
    "    # print(f'Number of lower target trajectories: {len(lower_target_trajectories)}')\n",
    "\n",
    "    # Lists to store the y values for each group\n",
    "    y_values_upper = []\n",
    "    y_values_lower = []\n",
    "\n",
    "    # Collect y values for the upper group\n",
    "    for r in upper_target_trajectories:\n",
    "        y_values_upper.append(r.y[1][:7500])\n",
    "\n",
    "    # Calculate average y values for the upper group\n",
    "    avg_y_upper = np.mean(y_values_upper, axis=0)\n",
    "\n",
    "    # Collect y values for the lower group\n",
    "    for r in lower_target_trajectories:\n",
    "        y_values_lower.append(r.y[1][:7500])\n",
    "\n",
    "    # Calculate average y values for the lower group\n",
    "    avg_y_lower = np.mean(y_values_lower, axis=0)\n",
    "\n",
    "    # Find the t value where the two averages intersect\n",
    "    t_intersection = np.where(np.isclose(avg_y_upper, avg_y_lower, atol=0.1))[0]\n",
    "    #select value greater than 1000\n",
    "    t_intersection = t_intersection[t_intersection > 1000]\n",
    "\n",
    "    x_up_intersections = []\n",
    "    x_low_intersections = []\n",
    "\n",
    "    for r1 in upper_target_trajectories:\n",
    "        for t in t_intersection:\n",
    "            x_up_intersections.append(r1.y[0][t])\n",
    "    \n",
    "    for r2 in lower_target_trajectories:\n",
    "        for t in t_intersection:\n",
    "            x_low_intersections.append(r2.y[0][t])\n",
    "\n",
    "    # concatenate x_up_intersections and x_low_intersections\n",
    "    x_inters = np.concatenate((x_up_intersections, x_low_intersections))\n",
    "\n",
    "    x_min = np.min(x_inters)\n",
    "    x_max = np.max(x_inters)\n",
    "    # print(f'x_inters: {x_inters}')\n",
    "    # Calculate the average and std of the x values at the intersection\n",
    "    x_intersection = np.mean(x_inters)\n",
    "    x_intersection_std = np.std(x_inters)\n",
    "\n",
    "    bifurcation.append([i, x_intersection, x_min, x_max, x_intersection_std])\n"
   ]
  },
  {
   "cell_type": "code",
   "execution_count": 26,
   "metadata": {},
   "outputs": [
    {
     "name": "stderr",
     "output_type": "stream",
     "text": [
      "/Users/eleonoragatti/opt/anaconda3/lib/python3.7/site-packages/scipy/interpolate/interpolate.py:630: RuntimeWarning: invalid value encountered in true_divide\n",
      "  slope = (y_hi - y_lo) / (x_hi - x_lo)[:, None]\n",
      "/Users/eleonoragatti/opt/anaconda3/lib/python3.7/site-packages/ipykernel_launcher.py:37: RuntimeWarning: Mean of empty slice\n",
      "/Users/eleonoragatti/opt/anaconda3/lib/python3.7/site-packages/ipykernel_launcher.py:45: RuntimeWarning: Mean of empty slice\n"
     ]
    }
   ],
   "source": [
    "bifurcation_tdep = []\n",
    "\n",
    "for i in range(20,50,5):\n",
    "\n",
    "    # Load the results from the pickle file\n",
    "    with open(f'k50.0_t{i}.pkl', 'rb') as f:\n",
    "        params_ksmall, res_ksmall = pickle.load(f)\n",
    "        \n",
    "    x_limit = i # check if reasonable\n",
    "    y_threshold_initial = 1.0\n",
    "    y_threshold = 1.5\n",
    "\n",
    "    # Lists to store the filtered trajectories\n",
    "    upper_target_trajectories = []\n",
    "    lower_target_trajectories = []\n",
    "\n",
    "    # Analyze each trajectory\n",
    "    for r in res_ksmall:\n",
    "        # Check if the trajectory goes straight at the beginning\n",
    "        if np.all(np.abs(r.y[1][r.y[0] < x_limit]) < y_threshold_initial):\n",
    "            # If it does, check if the trajectory reaches the upper target\n",
    "            if r.y[1][-1] > y_threshold:\n",
    "                upper_target_trajectories.append(r)\n",
    "            # Check if the trajectory reaches the lower target\n",
    "            elif r.y[1][-1] < -y_threshold:\n",
    "                lower_target_trajectories.append(r)\n",
    "\n",
    "    #len(upper_target_trajectories), len(lower_target_trajectories)\n",
    "\n",
    "    common_x_values = np.linspace(i, max([r.y[0][-1] for r in res_ksmall]), 1000) #CHECK\n",
    "\n",
    "    avg_y_upper_filtered = []\n",
    "    for r in upper_target_trajectories:\n",
    "        f = interp1d(r.y[0], r.y[1], fill_value=\"extrapolate\", bounds_error=False)\n",
    "        avg_y_upper_filtered.append(f(common_x_values))\n",
    "\n",
    "    avg_y_upper_filtered = np.nanmean(avg_y_upper_filtered, axis=0)\n",
    "\n",
    "    # Calculate average y values for the lower group\n",
    "    avg_y_lower_filtered = []\n",
    "    for r in lower_target_trajectories:\n",
    "        f = interp1d(r.y[0], r.y[1], fill_value=\"extrapolate\", bounds_error=False)\n",
    "        avg_y_lower_filtered.append(f(common_x_values))\n",
    "\n",
    "    avg_y_lower_filtered = np.nanmean(avg_y_lower_filtered, axis=0)\n",
    "\n",
    "    # Find the x values where the two averages intersect\n",
    "    intersection_indices = np.where(np.isclose(avg_y_upper_filtered, avg_y_lower_filtered, atol=0.1))[0]\n",
    "    intersection_points = common_x_values[intersection_indices]\n",
    "    mean_intersection_point = np.mean(intersection_points)\n",
    "    std_dev_intersection_point = np.std(intersection_points)\n",
    "\n",
    "    # save i, mean_intersection_point, std_dev_intersection_point in list bifurcation_tdep\n",
    "    bifurcation_tdep.append([i, mean_intersection_point, std_dev_intersection_point])\n",
    "\n"
   ]
  },
  {
   "cell_type": "code",
   "execution_count": 28,
   "metadata": {},
   "outputs": [
    {
     "data": {
      "text/plain": [
       "[[20, 42.59178410319759, 0.2356284429933941],\n",
       " [25, 50.57452084355681, 0.24637976164173003],\n",
       " [30, 56.207246902632264, 0.20929435809625713],\n",
       " [35, 60.15013812460702, 0.2127979459958729],\n",
       " [40, 63.32832228226924, 0.21050162014413934],\n",
       " [45, 65.87512975667701, 0.21207021824222702]]"
      ]
     },
     "execution_count": 28,
     "metadata": {},
     "output_type": "execute_result"
    }
   ],
   "source": [
    "bifurcation_tdep"
   ]
  },
  {
   "cell_type": "code",
   "execution_count": 29,
   "metadata": {},
   "outputs": [],
   "source": [
    "# bifurcation\n",
    "tar_x = params_ksmall[5]\n",
    "tar_y = params_ksmall[6]\n",
    "\n",
    "# convert bifurcatin x to angle\n",
    "bifurcation_angle_tdep = []\n",
    "for i in range(len(bifurcation_tdep)):\n",
    "    bifurcation_angle_tdep.append([bifurcation_tdep[i][0],\n",
    "                              np.degrees(np.arctan(tar_y/(tar_x-bifurcation_tdep[i][1]))),\n",
    "                              np.degrees(bifurcation_tdep[i][2]/(tar_x))])"
   ]
  },
  {
   "cell_type": "code",
   "execution_count": null,
   "metadata": {},
   "outputs": [],
   "source": []
  },
  {
   "cell_type": "code",
   "execution_count": 30,
   "metadata": {},
   "outputs": [],
   "source": [
    "# bifurcation\n",
    "tar_x = params_ksmall[3]\n",
    "tar_y = params_ksmall[4]\n",
    "\n",
    "# convert bifurcatin x to angle\n",
    "bifurcation_angle = []\n",
    "for i in range(len(bifurcation)):\n",
    "    bifurcation_angle.append([bifurcation[i][0],\n",
    "                              np.degrees(np.arctan(tar_y/(tar_x-bifurcation[i][1]))),\n",
    "                              abs(np.degrees(np.arctan(tar_y/(tar_x-bifurcation[i][1]))) - np.degrees(np.arctan(tar_y/(tar_x-bifurcation[i][2])))),\n",
    "                              abs(np.degrees(np.arctan(tar_y/(tar_x-bifurcation[i][1]))) - np.degrees(np.arctan(tar_y/(tar_x-bifurcation[i][3])))),\n",
    "                              np.degrees(bifurcation[i][4]/(tar_x))])"
   ]
  },
  {
   "cell_type": "code",
   "execution_count": 34,
   "metadata": {},
   "outputs": [
    {
     "data": {
      "application/vnd.jupyter.widget-view+json": {
       "model_id": "b2d85926135a4d73978afee6fba357e2",
       "version_major": 2,
       "version_minor": 0
      },
      "image/png": "[encoded data removed]",
      "text/html": [
       "\n",
       "            <div style=\"display: inline-block;\">\n",
       "                <div class=\"jupyter-widgets widget-label\" style=\"text-align: center;\">\n",
       "                    Figure\n",
       "                </div>\n",
       "                <img src='data:image/png;base64,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' width=600.0/>\n",
       "            </div>\n",
       "        "
      ],
      "text/plain": [
       "Canvas(toolbar=Toolbar(toolitems=[('Home', 'Reset original view', 'home', 'home'), ('Back', 'Back to previous …"
      ]
     },
     "metadata": {},
     "output_type": "display_data"
    }
   ],
   "source": [
    "# plot bifurcation angle\n",
    "fig, ax = plt.subplots(figsize=(6,6))\n",
    "ax.errorbar([i[0] for i in bifurcation_angle_tdep], [i[1] for i in bifurcation_angle_tdep], yerr=[i[2] for i in bifurcation_angle_tdep], fmt='.', capsize=3, color='black')\n",
    "ax.errorbar([i[0] for i in bifurcation_angle], [i[1] for i in bifurcation_angle], yerr=[[i[2] for i in bifurcation_angle],[i[3] for i in bifurcation_angle]], fmt='.', capsize=3, color='black')\n",
    "ax.plot([i[0] for i in bifurcation_angle], [i[0] for i in bifurcation_angle], color='r')\n",
    "# (ang_thresh, np.degrees(ang_crit), yerr=np.degrees(std), fmt='o', capsize=3, color='black')\n",
    "plt.xlabel('t')\n",
    "plt.ylabel('bifurcation angle')\n",
    "plt.title('bifurcation angle vs t')\n",
    "plt.show()\n"
   ]
  },
  {
   "cell_type": "code",
   "execution_count": null,
   "metadata": {},
   "outputs": [],
   "source": []
  },
  {
   "cell_type": "code",
   "execution_count": null,
   "metadata": {},
   "outputs": [],
   "source": []
  },
  {
   "cell_type": "code",
   "execution_count": null,
   "metadata": {},
   "outputs": [],
   "source": []
  },
  {
   "cell_type": "code",
   "execution_count": null,
   "metadata": {},
   "outputs": [],
   "source": []
  },
  {
   "cell_type": "code",
   "execution_count": null,
   "metadata": {},
   "outputs": [],
   "source": []
  }
 ],
 "metadata": {
  "kernelspec": {
   "display_name": "Python 3.8.10 64-bit",
   "language": "python",
   "name": "python3"
  },
  "language_info": {
   "codemirror_mode": {
    "name": "ipython",
    "version": 3
   },
   "file_extension": ".py",
   "mimetype": "text/x-python",
   "name": "python",
   "nbconvert_exporter": "python",
   "pygments_lexer": "ipython3",
   "version": "3.7.7"
  },
  "orig_nbformat": 4,
  "vscode": {
   "interpreter": {
    "hash": "916dbcbb3f70747c44a77c7bcd40155683ae19c65e1c03b4aa3499c5328201f1"
   }
  }
 },
 "nbformat": 4,
 "nbformat_minor": 2
}
