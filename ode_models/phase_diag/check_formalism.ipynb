{
 "cells": [
  {
   "cell_type": "code",
   "execution_count": 1,
   "id": "c005078e",
   "metadata": {},
   "outputs": [],
   "source": [
    "import numpy as np\n",
    "import pandas as pd\n",
    "import seaborn as sns\n",
    "from scipy import integrate, signal\n",
    "from scipy.optimize import fsolve\n",
    "from scipy.optimize import root\n",
    "import matplotlib.pyplot as plt\n",
    "import matplotlib.patches as mpatches\n",
    "import warnings\n",
    "warnings.filterwarnings('ignore')\n",
    "\n",
    "%matplotlib widget"
   ]
  },
  {
   "cell_type": "code",
   "execution_count": 29,
   "id": "497ad445",
   "metadata": {},
   "outputs": [
    {
     "name": "stdout",
     "output_type": "stream",
     "text": [
      "2.842655790927033 2.8426557955028233\n",
      "-2.842655790927024 -2.8426557863499378\n"
     ]
    }
   ],
   "source": [
    "def DiffE_thetas(theta, omega1, omega2, J12, J1, J2):\n",
    "    return [J12 * np.sin(theta[0] - theta[1]) + J1 * np.sin(theta[0]-omega1),\n",
    "            -J12 * np.sin(theta[0] - theta[1]) + J2 * np.sin(theta[1]-omega2)]\n",
    "\n",
    "def DiffE_s(s, om, J12, J1, J2):\n",
    "    return [-J12 * s[2] -  J1 * om[0],\n",
    "            -J12 * s[3] -  J1 * om[1],\n",
    "            -J12 * s[0] -  J2 * om[2],\n",
    "            -J12 * s[1] -  J2 * om[3]]\n",
    "\n",
    "def DiffE_s_uvec(sl, om, J12, J1, J2):\n",
    "    s = sl[0:4]\n",
    "    l1 = sl[4]\n",
    "    l2 = sl[5]\n",
    "    return [-J12 * s[2] -  J1 * om[0] + 2*l1*s[0],\n",
    "            -J12 * s[3] -  J1 * om[1] + 2*l1*s[1],\n",
    "            -J12 * s[0] -  J2 * om[2] + 2*l2*s[2],\n",
    "            -J12 * s[1] -  J2 * om[3] + 2*l2*s[3],\n",
    "            s[0]**2 + s[1]**2 - 1,\n",
    "            s[2]**2 + s[3]**2 - 1]\n",
    "\n",
    "omega1 = np.radians(85)\n",
    "omega2 = np.radians(-85)\n",
    "om = np.array([np.cos(omega1), np.sin(omega1), np.cos(omega2), np.sin(omega2)])\n",
    "J12 = 50\n",
    "J1 = 5\n",
    "J2 = 5\n",
    "\n",
    "theta0 = np.array([np.radians(0), np.radians(0)])\n",
    "s0 = np.array([np.cos(theta0[0]), np.sin(theta0[0]), np.cos(theta0[1]), np.sin(theta0[1])])\n",
    "sl0 = np.array([np.cos(theta0[0]), np.sin(theta0[0]), np.cos(theta0[1]), np.sin(theta0[1]), 1, 1])\n",
    "\n",
    "sol = fsolve(DiffE_thetas, theta0, args=(omega1, omega2, J12, J1, J2))\n",
    "sol_s = fsolve(DiffE_s, s0, args=(om, J12, J1, J2))\n",
    "sol_s_uvec = fsolve(DiffE_s_uvec, sl0, args=(om, J12, J1, J2))\n",
    "\n",
    "theta1 = np.arctan2(sol_s_uvec[1], sol_s_uvec[0])\n",
    "theta2 = np.arctan2(sol_s_uvec[3], sol_s_uvec[2])\n",
    "\n",
    "\n",
    "print(np.degrees(sol[0]), np.degrees(theta1))\n",
    "print(np.degrees(sol[1]), np.degrees(theta2))\n",
    "\n",
    "\n",
    "# print(sol_s, sol_s_uvec)\n",
    "# # calculate theta1 and theta2 from s1 and s2\n",
    "# theta1 = np.arctan2(sol_s[1], sol_s[0])\n",
    "# theta2 = np.arctan2(sol_s[3], sol_s[2])\n",
    "\n",
    "# # check if theta1 and theta2 are the same as the ones from the original system\n",
    "# print(np.degrees(sol[0]), np.degrees(theta1))\n",
    "# print(np.degrees(sol[1]), np.degrees(theta2))\n",
    "\n",
    "# # check if sol is a solution for DIffE_s\n",
    "# check_s = np.array([np.cos(sol[0]), np.sin(sol[0]), np.cos(sol[1]), np.sin(sol[1])])\n",
    "# print(DiffE_s(check_s, om, J12, J1, J2))"
   ]
  },
  {
   "cell_type": "code",
   "execution_count": null,
   "id": "3db77b4b",
   "metadata": {},
   "outputs": [],
   "source": []
  }
 ],
 "metadata": {
  "kernelspec": {
   "display_name": "Python 3.8.10 64-bit",
   "language": "python",
   "name": "python3"
  },
  "language_info": {
   "codemirror_mode": {
    "name": "ipython",
    "version": 3
   },
   "file_extension": ".py",
   "mimetype": "text/x-python",
   "name": "python",
   "nbconvert_exporter": "python",
   "pygments_lexer": "ipython3",
   "version": "3.8.10"
  },
  "vscode": {
   "interpreter": {
    "hash": "31f2aee4e71d21fbe5cf8b01ff0e069b9275f58929596ceb00d14d90e3e16cd6"
   }
  }
 },
 "nbformat": 4,
 "nbformat_minor": 5
}
