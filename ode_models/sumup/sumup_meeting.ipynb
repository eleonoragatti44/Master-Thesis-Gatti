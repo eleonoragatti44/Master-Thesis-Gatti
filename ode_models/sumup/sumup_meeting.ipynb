{
 "cells": [
  {
   "attachments": {},
   "cell_type": "markdown",
   "metadata": {},
   "source": [
    "# Summary\n",
    "\n",
    "- Flock model and simulations -> Interesting variables\n",
    "- Toy model -> Simplified toy model\n",
    "    - Compromise and decision solutions\n",
    "    - Phase diagram\n",
    "- Adding Temperature\n",
    "\n",
    "### Flock model and simulations -> Interesting variables\n",
    "\n",
    "<img src=\"fig/feedback.png\" alt=\"Figure\" width=\"800\">\n"
   ]
  },
  {
   "attachments": {},
   "cell_type": "markdown",
   "metadata": {},
   "source": [
    "### Toy model: two subrgups, two targets\n",
    "\n",
    "<img src=\"fig/toy.png\" alt=\"Figure\" width=\"400\">\n",
    "\n",
    "\\begin{equation}\n",
    "    U(\\hat{s}_1, \\hat{s}_2, J_1, J_2) = -J_{12} \\hat{s}_1 \\cdot \\hat{s}_2 - J_1 \\hat{s}_1 \\cdot \\hat{\\omega}_1 - J_2 \\hat{s}_2 \\cdot \\hat{\\omega}_2\n",
    "\\end{equation}\n",
    "\n",
    "Equations of motion:\n",
    "\n",
    "\\begin{equation}\n",
    "    \\large\n",
    "    %\\setstretch{1.5}\n",
    "    \\dot{\\bm{x}} =\n",
    "    \\begin{cases}\n",
    "        \\dot J_1 = \n",
    "        \\begin{cases}\n",
    "            \\alpha (J_{max} - J_1), & \\textrm{if } \\theta_1\\in N_{\\theta_0}(\\omega_1) \\\\[1ex]\n",
    "            - \\beta J_1, & \\textrm{otherwise}\n",
    "        \\end{cases} \\\\[3ex]\n",
    "        \\dot J_2 = \n",
    "        \\begin{cases}\n",
    "            \\alpha (J_{max} - J_2), & \\textrm{if } \\theta_2\\in N_{\\theta_0}(\\omega_2) \\\\[1ex]\n",
    "            - \\beta J_2, & \\textrm{otherwise}\n",
    "        \\end{cases}\\\\[3ex]\n",
    "        \\dot \\theta_1 = - \\frac{\\partial U}{\\partial \\theta_1} = -J_{12} \\sin (\\theta_1 - \\theta_2) - J_1 \\sin (\\theta_1 - \\omega) \\\\[2ex]\n",
    "        \\dot \\theta_2 = - \\frac{\\partial U}{\\partial \\theta_2} = + J_{12} \\sin (\\theta_1 - \\theta_2) - J_2 \\sin (\\theta_2 + \\omega)\n",
    "        \n",
    "    \\end{cases}\n",
    "\\end{equation}"
   ]
  },
  {
   "attachments": {},
   "cell_type": "markdown",
   "metadata": {},
   "source": [
    "### Simplified toy model\n",
    "\n",
    "\\begin{equation}\n",
    "\\large\n",
    "    \\begin{cases}\n",
    "        \\dot \\theta_1 = - \\frac{\\partial U}{\\partial \\theta_1} = -J_{12} \\sin (\\theta_1 - \\theta_2) - J_1 \\sin (\\theta_1 - \\omega) \\\\[1ex]\n",
    "        \\dot \\theta_2 = - \\frac{\\partial U}{\\partial \\theta_2} = + J_{12} \\sin (\\theta_1 - \\theta_2) - J_2 \\sin (\\theta_2 + \\omega)\n",
    "    \\end{cases}\n",
    "\\end{equation}\n",
    "\n",
    "with:\n",
    "\n",
    "\\begin{equation}\n",
    "\\large\n",
    "    J_i = \n",
    "    \\begin{cases}\n",
    "        J_{max} & \\textrm{if } \\theta_i\\in N_{\\theta_0}(\\omega_i) \\\\[1ex]\n",
    "        0 & \\textrm{if }\\theta_i\\notin N_{\\theta_0}(\\omega_i)\n",
    "    \\end{cases} \\\\\n",
    "\\end{equation}\n",
    "\n",
    "\n",
    "### Compromise: $J_1=J_2=J_{max}$\n",
    "\n",
    "<img src=\"fig/comp.png\" alt=\"Figure\" width=\"400\">\n",
    "\n",
    "### Decision: $J_1=J_{max}, J_2=0$\n",
    "\n",
    "<img src=\"fig/dec.png\" alt=\"Figure\" width=\"400\">\n",
    "\n",
    "### Phase diagram\n",
    "\n",
    "<img src=\"fig/phase.png\" alt=\"Figure\" width=\"400\">\n",
    "\n"
   ]
  },
  {
   "attachments": {},
   "cell_type": "markdown",
   "metadata": {},
   "source": [
    "### Adding T\n",
    "\n",
    "\\begin{align*}\n",
    "    F(\\bm{\\phi}, \\bm{h}) = &\\frac{1}{\\beta J_{12}}(\\phi_{1x}\\phi_{2x}+\\phi_{1y}\\phi_{2y})+\\frac{J_1 J_2 \\beta}{J_{12}}(\\omega_{1x}\\omega_{2x}+\\omega_{1y}\\omega_{2y})\\,+ \\\\\n",
    "    &-\\frac{1}{J_{12}}(J_2\\phi_{1x}\\omega_{2x}+J_1\\phi_{2x}\\omega_{1x}+J_2\\phi_{1y}\\omega_{2y}+J_1\\phi_{2y}\\omega_{1y}) \\,+ \\\\\n",
    "    &-\\log I_0(|\\bm{\\phi_1}|)-\\log I_0(|\\bm{\\phi_2}|) -2\\log (2\\pi)\n",
    "\\end{align*}\n"
   ]
  },
  {
   "attachments": {},
   "cell_type": "markdown",
   "metadata": {},
   "source": [
    "#### Problem: More parameters that matters, how to compare the results with the preavius case?"
   ]
  },
  {
   "attachments": {},
   "cell_type": "markdown",
   "metadata": {},
   "source": []
  },
  {
   "attachments": {},
   "cell_type": "markdown",
   "metadata": {},
   "source": [
    "\n",
    "- Possible title\n",
    "- Data showing bifurcation"
   ]
  }
 ],
 "metadata": {
  "kernelspec": {
   "display_name": "base",
   "language": "python",
   "name": "python3"
  },
  "language_info": {
   "name": "python",
   "version": "3.7.7"
  },
  "orig_nbformat": 4
 },
 "nbformat": 4,
 "nbformat_minor": 2
}
